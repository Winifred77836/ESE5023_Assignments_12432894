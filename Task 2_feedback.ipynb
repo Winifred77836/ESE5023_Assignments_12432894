{
 "cells": [
  {
   "cell_type": "markdown",
   "id": "d39c9d9a",
   "metadata": {},
   "source": [
    "Q2. `[10]` Good job! 不错的思路"
   ]
  },
  {
   "cell_type": "code",
   "execution_count": 2,
   "id": "91757d5f-9f6e-43ec-8462-b8f67423ac33",
   "metadata": {},
   "outputs": [],
   "source": [
    "def ceil(x):\n",
    "    # Integer function \n",
    "    return (x + 2) // 3  "
   ]
  },
  {
   "cell_type": "code",
   "execution_count": 3,
   "id": "c2b9691e-f794-4ef3-a826-d85e028411cb",
   "metadata": {},
   "outputs": [],
   "source": [
    "def F(n, dictionary_1):\n",
    "    # Since F(x) is a function expression, the original function can be realized by defining (x,y) as a dictionary\n",
    "    # If F(n) has already been calculated, return the result directly\n",
    "\n",
    "    # Implementation of the call function\n",
    "    if n in dictionary_1:  \n",
    "        return dictionary_1[n]\n",
    "\n",
    "    # F(1) = 1\n",
    "    if n == 1:  \n",
    "        dictionary_1[n] = 1  \n",
    "    else:  \n",
    "        # Recursive computation F(ceil(n/3)) + 2n  \n",
    "        dictionary_1[n] = F(ceil(n), dictionary_1) + 2 * n  \n",
    "    return dictionary_1[n]  "
   ]
  },
  {
   "cell_type": "code",
   "execution_count": 4,
   "id": "c5630a01-0ef5-4e9d-b6d2-d3666261f1ef",
   "metadata": {},
   "outputs": [],
   "source": [
    "def compute_F_for_list(List_1):  \n",
    "    # Create a dictionary to store the values of F(x) that have been computed  \n",
    "    dictionary_1 = {}  \n",
    "    # Calculate the F(x) value for each element in the list  \n",
    "    result = [F(num, dictionary_1) for num in List_1]  \n",
    "    return result  "
   ]
  },
  {
   "cell_type": "code",
   "execution_count": 5,
   "id": "c7711667-bd87-449e-8080-f86443aef2c8",
   "metadata": {},
   "outputs": [
    {
     "name": "stdout",
     "output_type": "stream",
     "text": [
      "[1, 5, 7, 13, 15, 17, 21, 23, 25]\n"
     ]
    }
   ],
   "source": [
    "# Example use\n",
    "\n",
    "List_1 = eval(input('Given a list with N positive integers:')) \n",
    "F_values = compute_F_for_list(List_1)  \n",
    "print(F_values)\n"
   ]
  },
  {
   "cell_type": "code",
   "execution_count": null,
   "id": "49439731-c33d-47b0-be1a-40f05dbc2e25",
   "metadata": {},
   "outputs": [],
   "source": []
  }
 ],
 "metadata": {
  "kernelspec": {
   "display_name": "Python 3 (ipykernel)",
   "language": "python",
   "name": "python3"
  },
  "language_info": {
   "codemirror_mode": {
    "name": "ipython",
    "version": 3
   },
   "file_extension": ".py",
   "mimetype": "text/x-python",
   "name": "python",
   "nbconvert_exporter": "python",
   "pygments_lexer": "ipython3",
   "version": "3.12.4"
  }
 },
 "nbformat": 4,
 "nbformat_minor": 5
}
