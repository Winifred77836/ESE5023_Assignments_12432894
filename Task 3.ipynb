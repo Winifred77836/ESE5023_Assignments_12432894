{
 "cells": [
  {
   "cell_type": "code",
   "execution_count": null,
   "id": "596db773-241a-4c2f-becf-694e6a715e5c",
   "metadata": {},
   "outputs": [],
   "source": [
    "# Task 3.1"
   ]
  },
  {
   "cell_type": "code",
   "execution_count": 506,
   "id": "bdc81bd9-cb72-4d4f-9795-8be574596cf5",
   "metadata": {},
   "outputs": [],
   "source": [
    "# Dynamic Programming"
   ]
  },
  {
   "cell_type": "code",
   "execution_count": 507,
   "id": "f11d8a9b-6799-40e6-a019-ac2d5d995116",
   "metadata": {},
   "outputs": [],
   "source": [
    "# The time complexity is significantly reduced to polynomial time complexity and is able to handle larger scale inputs."
   ]
  },
  {
   "cell_type": "code",
   "execution_count": 508,
   "id": "19f9f678-6634-4e10-9ffb-12da7f11180c",
   "metadata": {},
   "outputs": [],
   "source": [
    "def Find_number_of_ways(x):  \n",
    "    # The number of dice  \n",
    "    num_dice = 10  \n",
    "    # The number of faces on each die  \n",
    "    num_faces = 6 \n",
    "    # Create a 2D list (array) to store the number of ways to get each possible sum  \n",
    "    # from 0 to 60 (since 10 dice * 6 faces/die = 60 max sum)\n",
    "    \n",
    "    # Create a two-dimensional matrix,10*x+1\n",
    "    dp = [[0] * (x + 1) for _ in range(num_dice + 1)]  \n",
    "      \n",
    "    # The rows represent the number of dice and the columns represent the desired result(x).\n",
    "    # There is exactly one way to get a sum of 0 with 0 dice: do nothing.  \n",
    "    dp[0][0] = 1  #0 dice,sum 0,way 1\n",
    "    # Iterate over the number of dice  \n",
    "    for dice in range(1, num_dice + 1):  \n",
    "        # Iterate over possible sums  \n",
    "        for curr_sum in range(x + 1):  \n",
    "            # Iterate over the faces of the current die  \n",
    "            for face in range(1, num_faces + 1):  \n",
    "                # If the current face value is less than or equal to the current sum,  \n",
    "                # we can include it in our combination.  \n",
    "                if curr_sum >= face:  \n",
    "                    # Update the dp array: the number of ways to get `curr_sum` with `dice` dice  \n",
    "                    # is the sum of the number of ways to get `curr_sum - face` with `dice - 1` dice  \n",
    "                    # and the number of ways to get `curr_sum` with `dice - 1` dice (if we decide not to use this face value).  \n",
    "                    dp[dice][curr_sum] += dp[dice - 1][curr_sum - face]  \n",
    "      \n",
    "    # The answer is the number of ways to get sum `x` with `num_dice` dice.  \n",
    "    return dp[num_dice][x] "
   ]
  },
  {
   "cell_type": "code",
   "execution_count": 509,
   "id": "f2c951ec-7361-4905-b4cd-9ab7ba76328e",
   "metadata": {},
   "outputs": [
    {
     "name": "stdout",
     "output_type": "stream",
     "text": [
      "Number of ways to get sum 21 with 10 dice: 147940\n"
     ]
    }
   ],
   "source": [
    "# Example usage:  \n",
    "x = 21  # Change this value to test different sums  \n",
    "print(f\"Number of ways to get sum {x} with 10 dice: {Find_number_of_ways(x)}\")"
   ]
  },
  {
   "cell_type": "code",
   "execution_count": 515,
   "id": "f7ceb9c5-4d26-495f-ac7b-e6a93e05c0d0",
   "metadata": {},
   "outputs": [],
   "source": [
    " # Task 3.2"
   ]
  },
  {
   "cell_type": "code",
   "execution_count": 517,
   "id": "5499c562-2b9f-4ccd-acf7-9104802ba8f4",
   "metadata": {},
   "outputs": [
    {
     "name": "stdout",
     "output_type": "stream",
     "text": [
      "Number of ways for sums from 10 to 60: [1, 10, 55, 220, 715, 2002, 4995, 11340, 23760, 46420, 85228, 147940, 243925, 383470, 576565, 831204, 1151370, 1535040, 1972630, 2446300, 2930455, 3393610, 3801535, 4121260, 4325310, 4395456, 4325310, 4121260, 3801535, 3393610, 2930455, 2446300, 1972630, 1535040, 1151370, 831204, 576565, 383470, 243925, 147940, 85228, 46420, 23760, 11340, 4995, 2002, 715, 220, 55, 10, 1]\n",
      "Sum that yields maximum number of ways: 35\n"
     ]
    }
   ],
   "source": [
    "def count_ways_for_sums():\n",
    "    Number_of_ways = []\n",
    "    \n",
    "    for x in range(10, 61):  # From sum 10 to 60\n",
    "        ways = Find_number_of_ways(x)\n",
    "        Number_of_ways.append(ways) # Add each result to the list\n",
    "\n",
    "    max_ways = max(Number_of_ways) # Getting the maximum ways\n",
    "    max_sum = Number_of_ways.index(max_ways) + 10  # Offset by 10 to get the actual sum\n",
    "\n",
    "    return Number_of_ways, max_sum\n",
    "\n",
    "# Count ways for 10 dice\n",
    "Number_of_ways, max_sum = count_ways_for_sums()\n",
    "print(\"Number of ways for sums from 10 to 60:\", Number_of_ways)\n",
    "print(\"Sum that yields maximum number of ways:\", max_sum)"
   ]
  },
  {
   "cell_type": "code",
   "execution_count": null,
   "id": "42ae8c0b-5b35-4e3a-900f-d2454e0d5920",
   "metadata": {},
   "outputs": [],
   "source": []
  }
 ],
 "metadata": {
  "kernelspec": {
   "display_name": "Python 3 (ipykernel)",
   "language": "python",
   "name": "python3"
  },
  "language_info": {
   "codemirror_mode": {
    "name": "ipython",
    "version": 3
   },
   "file_extension": ".py",
   "mimetype": "text/x-python",
   "name": "python",
   "nbconvert_exporter": "python",
   "pygments_lexer": "ipython3",
   "version": "3.12.4"
  }
 },
 "nbformat": 4,
 "nbformat_minor": 5
}
