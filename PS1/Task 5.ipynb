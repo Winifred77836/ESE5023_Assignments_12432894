{
 "cells": [
  {
   "cell_type": "code",
   "execution_count": 511,
   "id": "ca72a2c3-b1cb-4bce-963b-053f9d10158d",
   "metadata": {},
   "outputs": [],
   "source": [
    "#5.1 Create a Matrix"
   ]
  },
  {
   "cell_type": "code",
   "execution_count": 512,
   "id": "3c3e3d9c-1333-43d4-808b-0bf0b7df4bbc",
   "metadata": {},
   "outputs": [],
   "source": [
    "import numpy as np"
   ]
  },
  {
   "cell_type": "code",
   "execution_count": 513,
   "id": "f92cf74c-d602-4fa2-b477-ae11f73e3452",
   "metadata": {},
   "outputs": [],
   "source": [
    "def Create_matrix(N, M):\n",
    "    matrix = np.random.randint(0, 2, size=(N, M)) # np.random.randint(low, high=None, size=None, dtype='l')\n",
    "    matrix[0][0] = 1  # Set the upper left corner to 1 \n",
    "    matrix[N-1][M-1] = 1  # Set the lower right corner to 1 \n",
    "    return matrix"
   ]
  },
  {
   "cell_type": "code",
   "execution_count": 514,
   "id": "88060546-5e01-4998-be29-2e90d09241e4",
   "metadata": {},
   "outputs": [],
   "source": [
    "#5.2 Count_path Function"
   ]
  },
  {
   "cell_type": "code",
   "execution_count": 515,
   "id": "2627fe9f-abeb-49ff-9640-a5009b9542c3",
   "metadata": {},
   "outputs": [
    {
     "data": {
      "text/plain": [
       "2"
      ]
     },
     "execution_count": 515,
     "metadata": {},
     "output_type": "execute_result"
    }
   ],
   "source": [
    "#5.2 Count_path Function\n",
    "def count_paths_dfs(matrix, x, y):# x,y represent the points to be searched\n",
    "    N, M = matrix.shape\n",
    "    \n",
    "    # If out of bounds or experiencing blockage\n",
    "    if x >= N or y >= M or matrix[x, y] == 0:\n",
    "        return 0\n",
    "    \n",
    "    # If it reaches the lower right corner \n",
    "    if x == N-1 and y == M-1:\n",
    "        return 1\n",
    "    \n",
    "    # Calculate the path to the right and down\n",
    "    right_paths = count_paths_dfs(matrix, x, y + 1)\n",
    "    down_paths = count_paths_dfs(matrix, x + 1, y)\n",
    "    \n",
    "    return right_paths + down_paths\n",
    "\n",
    "# Example usage:  \n",
    "matrix =np.array([[1,1,1],[1,0,1],[1,1,1]]) # 2 ways\n",
    "count_paths_dfs(matrix, 0, 0)"
   ]
  },
  {
   "cell_type": "code",
   "execution_count": 516,
   "id": "3dcb9c30-3a45-43bd-ac6d-4452740a1c3a",
   "metadata": {},
   "outputs": [],
   "source": [
    "#5.3 Running the Count_path Function"
   ]
  },
  {
   "cell_type": "code",
   "execution_count": 517,
   "id": "7046fcca-dae9-4b30-8e34-4e11d3b5241a",
   "metadata": {},
   "outputs": [],
   "source": [
    "N = 10  \n",
    "M = 8  \n",
    "total_path = 0  #define total_path"
   ]
  },
  {
   "cell_type": "code",
   "execution_count": 518,
   "id": "13669319-2f52-47fd-a74d-4559e1f25f7c",
   "metadata": {},
   "outputs": [
    {
     "name": "stdout",
     "output_type": "stream",
     "text": [
      "Average of the total number of paths for 1000 runs: 0.225\n"
     ]
    }
   ],
   "source": [
    "for _ in range(1000):  \n",
    "    matrix = Create_matrix(N, M)  \n",
    "    total_path += count_paths_dfs(matrix,0,0)  # x=0,y=0 \n",
    "  \n",
    "average_path = total_path / 1000  \n",
    "print(\"Average of the total number of paths for 1000 runs:\", average_path)"
   ]
  }
 ],
 "metadata": {
  "kernelspec": {
   "display_name": "Python 3 (ipykernel)",
   "language": "python",
   "name": "python3"
  },
  "language_info": {
   "codemirror_mode": {
    "name": "ipython",
    "version": 3
   },
   "file_extension": ".py",
   "mimetype": "text/x-python",
   "name": "python",
   "nbconvert_exporter": "python",
   "pygments_lexer": "ipython3",
   "version": "3.12.4"
  }
 },
 "nbformat": 4,
 "nbformat_minor": 5
}
