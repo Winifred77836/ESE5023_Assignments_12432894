{
 "cells": [
  {
   "cell_type": "code",
   "execution_count": 43,
   "id": "ed24dffe-c509-4ba3-b4a3-ea66a44a4b3b",
   "metadata": {},
   "outputs": [],
   "source": [
    "# exhaustive indexing (math.)"
   ]
  },
  {
   "cell_type": "code",
   "execution_count": 44,
   "id": "0e965a8a-b5bc-48b8-8b13-bd1fd3a93799",
   "metadata": {},
   "outputs": [],
   "source": [
    "x = 31  # Change this value to test different sums  "
   ]
  },
  {
   "cell_type": "code",
   "execution_count": 45,
   "id": "8d5ca526-7729-4158-a3ab-fea8b0da10b1",
   "metadata": {},
   "outputs": [],
   "source": [
    "# 10 dices\n",
    "a = [1, 2, 3, 4, 5, 6]  \n",
    "b = [1, 2, 3, 4, 5, 6]  \n",
    "c = [1, 2, 3, 4, 5, 6]  \n",
    "d = [1, 2, 3, 4, 5, 6]  \n",
    "e = [1, 2, 3, 4, 5, 6]  \n",
    "f = [1, 2, 3, 4, 5, 6]\n",
    "g = [1, 2, 3, 4, 5, 6]\n",
    "h = [1, 2, 3, 4, 5, 6]\n",
    "i = [1, 2, 3, 4, 5, 6]\n",
    "j = [1, 2, 3, 4, 5, 6]"
   ]
  },
  {
   "cell_type": "code",
   "execution_count": 46,
   "id": "64b4bfda-a6cc-4601-b1e7-6add2954b1d7",
   "metadata": {},
   "outputs": [],
   "source": [
    "def find_number_of_ways(A):  \n",
    "    T = 0  \n",
    "    # Iterate over all combinations of values from the lists  \n",
    "    for vaule_1 in a:  \n",
    "        for vaule_2 in b:  \n",
    "            for vaule_3 in c:  \n",
    "                for vaule_4 in d:  \n",
    "                    for vaule_5 in e:  \n",
    "                        for vaule_6 in f:\n",
    "                             for vaule_7 in g:\n",
    "                                  for vaule_8 in h:\n",
    "                                       for vaule_9 in i:\n",
    "                                            for vaule_10 in j:\n",
    "                                                # Calculate the sum of the dice values  \n",
    "                                                sum_values = vaule_1 + vaule_2 + vaule_3 + vaule_4 + vaule_5 + vaule_6 + vaule_7 + vaule_8 + vaule_9 + vaule_10 \n",
    "                                                # If the sum equals the target value, increment the counter  \n",
    "                                                if sum_values == A:  \n",
    "                                                    T += 1  \n",
    "    print(T)  \n",
    "  "
   ]
  },
  {
   "cell_type": "code",
   "execution_count": 47,
   "id": "6e35368f-150a-4484-8af1-4bf1eec489bf",
   "metadata": {},
   "outputs": [
    {
     "name": "stdout",
     "output_type": "stream",
     "text": [
      "3393610\n"
     ]
    }
   ],
   "source": [
    "# Example usage  \n",
    "find_number_of_ways(x)\n",
    "\n",
    "#Error may be reported when the amount of data is too large\n",
    "#Error may be reported when the amount of data is too large\n",
    "#Error may be reported when the amount of data is too large"
   ]
  },
  {
   "cell_type": "code",
   "execution_count": null,
   "id": "bb4585c8-94a6-40b2-8a59-9a866550984d",
   "metadata": {},
   "outputs": [],
   "source": []
  }
 ],
 "metadata": {
  "kernelspec": {
   "display_name": "Python 3 (ipykernel)",
   "language": "python",
   "name": "python3"
  },
  "language_info": {
   "codemirror_mode": {
    "name": "ipython",
    "version": 3
   },
   "file_extension": ".py",
   "mimetype": "text/x-python",
   "name": "python",
   "nbconvert_exporter": "python",
   "pygments_lexer": "ipython3",
   "version": "3.12.4"
  }
 },
 "nbformat": 4,
 "nbformat_minor": 5
}
