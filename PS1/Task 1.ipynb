{
 "cells": [
  {
   "cell_type": "code",
   "execution_count": 2,
   "id": "8d879974-b06b-41ce-807d-75715392bd93",
   "metadata": {},
   "outputs": [],
   "source": [
    "#task 1  Flowchart  x+y-10z"
   ]
  },
  {
   "cell_type": "code",
   "execution_count": 3,
   "id": "b2f9e8a8-784f-45a3-a52f-4d8cfc3625ca",
   "metadata": {},
   "outputs": [],
   "source": [
    "def Print_values(a,b,c):\n",
    "    if a>b: # First level of circulation\n",
    "        if b>c:# Second level of circulation\n",
    "            print(a + b - 10*c)\n",
    "        else:\n",
    "            if a>c:# Third level of circulation\n",
    "                print(a + c - 10*b)\n",
    "            else:\n",
    "                print(c + a - 10*b)\n",
    "    else:# First level of circulation\n",
    "        if b>c: # Second level of circulation\n",
    "            print('stop')\n",
    "        else:\n",
    "            print(c + b -10*a)"
   ]
  },
  {
   "cell_type": "code",
   "execution_count": 4,
   "id": "dd9dbf81-cc18-4b48-91da-6b959f46268c",
   "metadata": {},
   "outputs": [
    {
     "name": "stdin",
     "output_type": "stream",
     "text": [
      "Please enter the value of a: 2\n",
      "Please enter the value of b: 5\n",
      "Please enter the value of c: 5\n"
     ]
    }
   ],
   "source": [
    "a = float(input('Please enter the value of a:'))\n",
    "b = float(input('Please enter the value of b:'))\n",
    "c = float(input('Please enter the value of c:'))"
   ]
  },
  {
   "cell_type": "code",
   "execution_count": 5,
   "id": "ebd20578-943b-42ad-bcb7-11a766788f03",
   "metadata": {},
   "outputs": [
    {
     "name": "stdout",
     "output_type": "stream",
     "text": [
      "-10.0\n"
     ]
    }
   ],
   "source": [
    "Print_values(a,b,c)"
   ]
  },
  {
   "cell_type": "code",
   "execution_count": null,
   "id": "663c5f52-ae98-4395-9437-f23e62af3350",
   "metadata": {},
   "outputs": [],
   "source": []
  }
 ],
 "metadata": {
  "kernelspec": {
   "display_name": "Python 3 (ipykernel)",
   "language": "python",
   "name": "python3"
  },
  "language_info": {
   "codemirror_mode": {
    "name": "ipython",
    "version": 3
   },
   "file_extension": ".py",
   "mimetype": "text/x-python",
   "name": "python",
   "nbconvert_exporter": "python",
   "pygments_lexer": "ipython3",
   "version": "3.12.4"
  }
 },
 "nbformat": 4,
 "nbformat_minor": 5
}
