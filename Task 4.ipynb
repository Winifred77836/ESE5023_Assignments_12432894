{
 "cells": [
  {
   "cell_type": "code",
   "execution_count": 75,
   "id": "56548bb5-a8e1-46ac-a679-505a7a47d5dc",
   "metadata": {},
   "outputs": [],
   "source": [
    "import random\n",
    "from itertools import combinations # itertools.combinations Generate all ordered subsets of length i\n",
    "import matplotlib.pyplot as plt"
   ]
  },
  {
   "cell_type": "code",
   "execution_count": 77,
   "id": "4f366cbd-26ab-40c5-a79d-0aa0082ff0b4",
   "metadata": {},
   "outputs": [],
   "source": [
    "#4.1"
   ]
  },
  {
   "cell_type": "code",
   "execution_count": 79,
   "id": "d117e053-b554-43df-9a71-8b9ac44f6782",
   "metadata": {},
   "outputs": [],
   "source": [
    "def Random_integer(N):\n",
    "    return [random.randint(0, 10) for _ in range(N)] # random.randint means round"
   ]
  },
  {
   "cell_type": "code",
   "execution_count": 81,
   "id": "b4528e22-e264-4b5a-8a61-605f9acfe1ba",
   "metadata": {},
   "outputs": [],
   "source": [
    "#4.2"
   ]
  },
  {
   "cell_type": "code",
   "execution_count": 93,
   "id": "e0e486b9-8dbd-4f1f-a189-b44e618d1db1",
   "metadata": {},
   "outputs": [],
   "source": [
    "def Sum_averages(arr):\n",
    "    total_sum = 0 # define total_sum\n",
    "    n = len(arr)\n",
    "    for i in range(1, n + 1):\n",
    "        for subset in combinations(arr, i): # Generate all ordered subsets of length i from list arr\n",
    "            total_sum += sum(subset) / i # sum(subset) / i means subset_average\n",
    "    return total_sum"
   ]
  },
  {
   "cell_type": "code",
   "execution_count": 85,
   "id": "df1d2f12-4bdf-408f-8c70-96aa16bb2dc8",
   "metadata": {},
   "outputs": [],
   "source": [
    "#4.3"
   ]
  },
  {
   "cell_type": "code",
   "execution_count": null,
   "id": "75288ac9-b889-43ea-81ac-ad9a2e25b2d2",
   "metadata": {},
   "outputs": [],
   "source": [
    "Total_sum_averages = []\n",
    "\n",
    "for N in range(1, 101):\n",
    "    arr = Random_integer(N)\n",
    "    total_sum = Sum_averages(arr)\n",
    "    Total_sum_averages.append(total_sum)\n",
    "\n",
    "# Plotting\n",
    "plt.plot(range(1, 101), Total_sum_averages)\n",
    "plt.xlabel('N')\n",
    "plt.ylabel('Total Sum of Averages')\n",
    "plt.title('Sum of Averages for Random Integer Arrays')\n",
    "plt.show()"
   ]
  },
  {
   "cell_type": "code",
   "execution_count": null,
   "id": "54085a84-cb7c-43cd-81fe-ce0040045d4c",
   "metadata": {},
   "outputs": [],
   "source": []
  },
  {
   "cell_type": "code",
   "execution_count": null,
   "id": "6c6d5538-19e4-4cea-bed8-c25a488af4bd",
   "metadata": {},
   "outputs": [],
   "source": []
  }
 ],
 "metadata": {
  "kernelspec": {
   "display_name": "Python 3 (ipykernel)",
   "language": "python",
   "name": "python3"
  },
  "language_info": {
   "codemirror_mode": {
    "name": "ipython",
    "version": 3
   },
   "file_extension": ".py",
   "mimetype": "text/x-python",
   "name": "python",
   "nbconvert_exporter": "python",
   "pygments_lexer": "ipython3",
   "version": "3.12.4"
  }
 },
 "nbformat": 4,
 "nbformat_minor": 5
}
